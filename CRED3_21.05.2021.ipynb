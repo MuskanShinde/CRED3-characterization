{
 "cells": [
  {
   "cell_type": "code",
   "execution_count": 3,
   "metadata": {},
   "outputs": [],
   "source": [
    "from astropy.io import fits\n",
    "from matplotlib import pyplot as plt\n",
    "import numpy as np\n",
    "from scipy.stats import linregress"
   ]
  },
  {
   "cell_type": "markdown",
   "metadata": {},
   "source": [
    "## Mean and variance map functions"
   ]
  },
  {
   "cell_type": "code",
   "execution_count": 4,
   "metadata": {},
   "outputs": [],
   "source": [
    "def mean_map(cube):\n",
    "    x = np.arange(0, cube.shape[1])\n",
    "    y = np.arange(0, cube.shape[2])\n",
    "    mean = np.zeros((len(x),len(y)))\n",
    "    for i in x:\n",
    "        for j in y:\n",
    "            pix_arr=[]\n",
    "            for frame in np.arange(0, cube.shape[0]):\n",
    "                pix = cube[frame, i, j]\n",
    "                pix_arr.append(pix)\n",
    "            mean[i,j] = np.mean(pix_arr)\n",
    "    return mean\n",
    "\n",
    "def var_map(cube):\n",
    "    x = np.arange(0, cube.shape[1])\n",
    "    y = np.arange(0, cube.shape[2])\n",
    "    var = np.zeros((len(x),len(y)))\n",
    "    for i in x:\n",
    "        for j in y:\n",
    "            pix_arr=[]\n",
    "            for frame in np.arange(0, cube.shape[0]):\n",
    "                pix = cube[frame, i, j]\n",
    "                pix_arr.append(pix)\n",
    "            var[i,j] = np.var(pix_arr)\n",
    "    return var"
   ]
  },
  {
   "cell_type": "markdown",
   "metadata": {},
   "source": [
    "# DARK images (shutter on)\n",
    "\n",
    "#### framrate = 100fps, readout-mode = CDS, gain = medium gain"
   ]
  },
  {
   "cell_type": "markdown",
   "metadata": {},
   "source": [
    "## Bias correction applied"
   ]
  },
  {
   "cell_type": "code",
   "execution_count": 12,
   "metadata": {},
   "outputs": [],
   "source": [
    "cube_1 = fits.getdata('G:/20210521/shutter_on/100fps/fps_100_tint_0.05ms_baiscorr1.fit')\n",
    "cube_2 = fits.getdata('G:/20210521/shutter_on/100fps/fps_100_tint_1.00ms_baiscorr1.fit')\n",
    "cube_3 = fits.getdata('G:/20210521/shutter_on/100fps/fps_100_tint_2.00ms_baiscorr1.fit')\n",
    "cube_4 = fits.getdata('G:/20210521/shutter_on/100fps/fps_100_tint_3.00ms_baiscorr1.fit')\n",
    "cube_5 = fits.getdata('G:/20210521/shutter_on/100fps/fps_100_tint_4.00ms_baiscorr1.fit')\n",
    "cube_6 = fits.getdata('G:/20210521/shutter_on/100fps/fps_100_tint_5.00ms_baiscorr0.fit')\n",
    "cube_7 = fits.getdata('G:/20210521/shutter_on/100fps/fps_100_tint_6.00ms_baiscorr1.fit')\n",
    "cube_8 = fits.getdata('G:/20210521/shutter_on/100fps/fps_100_tint_7.00ms_baiscorr1.fit')"
   ]
  },
  {
   "cell_type": "code",
   "execution_count": 13,
   "metadata": {},
   "outputs": [],
   "source": [
    "mean_1 = mean_map(cube_1)\n",
    "mean_2 = mean_map(cube_2)\n",
    "mean_3 = mean_map(cube_3)\n",
    "mean_4 = mean_map(cube_4)\n",
    "mean_5 = mean_map(cube_5)\n",
    "mean_6 = mean_map(cube_6)\n",
    "mean_7 = mean_map(cube_7)\n",
    "mean_8 = mean_map(cube_8)"
   ]
  },
  {
   "cell_type": "markdown",
   "metadata": {},
   "source": [
    "#### Mean vs. int time"
   ]
  },
  {
   "cell_type": "code",
   "execution_count": 14,
   "metadata": {},
   "outputs": [
    {
     "data": {
      "text/plain": [
       "<matplotlib.legend.Legend at 0x1cd43541e80>"
      ]
     },
     "execution_count": 14,
     "metadata": {},
     "output_type": "execute_result"
    },
    {
     "data": {
      "image/png": "[encoded data removed]",
      "text/plain": [
       "<Figure size 432x288 with 1 Axes>"
      ]
     },
     "metadata": {
      "needs_background": "light"
     },
     "output_type": "display_data"
    }
   ],
   "source": [
    "mean_arr = np.array([ np.median(mean_1),\n",
    "                     np.median(mean_2), \n",
    "                     np.median(mean_3),\n",
    "                     np.median(mean_4), \n",
    "                     np.median(mean_5), \n",
    "                     np.median(mean_6), \n",
    "                     np.median(mean_7), \n",
    "                     np.median(mean_8)])\n",
    "tint = np.array([0.05, 1.00, 2.00, 3.00, 4.00, 5.00, 6.00, 7.00])\n",
    "line = linregress(tint, mean_arr)\n",
    "plt.plot(tint, mean_arr, 'o', label='original data')\n",
    "plt.plot(tint, line.intercept + line.slope*tint, 'r', label='fitted line')\n",
    "plt.ylabel('mean flux [ADU]')\n",
    "plt.xlabel('tint [ms]')\n",
    "plt.legend()\n"
   ]
  },
  {
   "cell_type": "markdown",
   "metadata": {},
   "source": [
    "## Bias substraction manually"
   ]
  },
  {
   "cell_type": "code",
   "execution_count": 5,
   "metadata": {},
   "outputs": [],
   "source": [
    "bias_cube = fits.getdata('G:/20210521/shutter_on/100fps/fps_100_tint_0.05ms_baiscorr0.fit')\n",
    "raw_cube_2 = fits.getdata('G:/20210521/shutter_on/100fps/fps_100_tint_1.00ms_baiscorr0.fit')\n",
    "raw_cube_3 = fits.getdata('G:/20210521/shutter_on/100fps/fps_100_tint_2.00ms_baiscorr0.fit')\n",
    "raw_cube_4 = fits.getdata('G:/20210521/shutter_on/100fps/fps_100_tint_3.00ms_baiscorr0.fit')\n",
    "raw_cube_5 = fits.getdata('G:/20210521/shutter_on/100fps/fps_100_tint_4.00ms_baiscorr0.fit')\n",
    "raw_cube_6 = fits.getdata('G:/20210521/shutter_on/100fps/fps_100_tint_5.00ms_baiscorr1.fit')\n",
    "raw_cube_7 = fits.getdata('G:/20210521/shutter_on/100fps/fps_100_tint_6.00ms_baiscorr0.fit')\n",
    "raw_cube_8 = fits.getdata('G:/20210521/shutter_on/100fps/fps_100_tint_7.00ms_baiscorr0.fit')"
   ]
  },
  {
   "cell_type": "markdown",
   "metadata": {},
   "source": [
    "#### Mean vs. int time"
   ]
  },
  {
   "cell_type": "code",
   "execution_count": 6,
   "metadata": {},
   "outputs": [],
   "source": [
    "bias_img = mean_map(bias_cube)\n",
    "raw_mean_1 = mean_map(bias_cube-bias_img)\n",
    "raw_mean_2 = mean_map(raw_cube_2-bias_img)\n",
    "raw_mean_3 = mean_map(raw_cube_3-bias_img)\n",
    "raw_mean_4 = mean_map(raw_cube_4-bias_img)\n",
    "raw_mean_5 = mean_map(raw_cube_5-bias_img)\n",
    "raw_mean_6 = mean_map(raw_cube_6-bias_img)\n",
    "raw_mean_7 = mean_map(raw_cube_7-bias_img)\n",
    "raw_mean_8 = mean_map(raw_cube_8-bias_img)"
   ]
  },
  {
   "cell_type": "code",
   "execution_count": 7,
   "metadata": {},
   "outputs": [
    {
     "data": {
      "text/plain": [
       "<matplotlib.legend.Legend at 0x1cd41f5f160>"
      ]
     },
     "execution_count": 7,
     "metadata": {},
     "output_type": "execute_result"
    },
    {
     "data": {
      "image/png": "[encoded data removed]",
      "text/plain": [
       "<Figure size 432x288 with 1 Axes>"
      ]
     },
     "metadata": {
      "needs_background": "light"
     },
     "output_type": "display_data"
    }
   ],
   "source": [
    "mean_arr = np.array([np.median(raw_mean_1),\n",
    "                     np.median(raw_mean_2), \n",
    "                     np.median(raw_mean_3),\n",
    "                     np.median(raw_mean_4), \n",
    "                     np.median(raw_mean_5), \n",
    "                     np.median(raw_mean_6), \n",
    "                     np.median(raw_mean_7), \n",
    "                     np.median(raw_mean_8)])\n",
    "tint = np.array([0.05, 1.00, 2.00, 3.00, 4.00, 5.00, 6.00, 7.00])\n",
    "line = linregress(tint, mean_arr)\n",
    "plt.plot(tint, mean_arr, 'o', label='original data')\n",
    "plt.plot(tint, line.intercept + line.slope*tint, 'r', label='fitted line')\n",
    "plt.ylabel('mean flux [ADU]')\n",
    "plt.xlabel('tint [ms]')\n",
    "plt.legend()\n"
   ]
  },
  {
   "cell_type": "markdown",
   "metadata": {},
   "source": [
    "#### Variance vs. int time"
   ]
  },
  {
   "cell_type": "code",
   "execution_count": 8,
   "metadata": {},
   "outputs": [],
   "source": [
    "raw_var_1 = var_map(bias_cube-bias_img)\n",
    "raw_var_2 = var_map(raw_cube_2-bias_img)\n",
    "raw_var_3 = var_map(raw_cube_3-bias_img)\n",
    "raw_var_4 = var_map(raw_cube_4-bias_img)\n",
    "raw_var_5 = var_map(raw_cube_5-bias_img)\n",
    "raw_var_6 = var_map(raw_cube_6-bias_img)\n",
    "raw_var_7 = var_map(raw_cube_7-bias_img)\n",
    "raw_var_8 = var_map(raw_cube_8-bias_img)"
   ]
  },
  {
   "cell_type": "code",
   "execution_count": 9,
   "metadata": {},
   "outputs": [
    {
     "data": {
      "text/plain": [
       "<matplotlib.legend.Legend at 0x1cd42062e80>"
      ]
     },
     "execution_count": 9,
     "metadata": {},
     "output_type": "execute_result"
    },
    {
     "data": {
      "image/png": "[encoded data removed]",
      "text/plain": [
       "<Figure size 432x288 with 1 Axes>"
      ]
     },
     "metadata": {
      "needs_background": "light"
     },
     "output_type": "display_data"
    }
   ],
   "source": [
    "var_arr = np.array([np.median(raw_var_1),\n",
    "                     np.median(raw_var_2), \n",
    "                     np.median(raw_var_3),\n",
    "                     np.median(raw_var_4), \n",
    "                     np.median(raw_var_5), \n",
    "                     np.median(raw_var_6), \n",
    "                     np.median(raw_var_7), \n",
    "                     np.median(raw_var_8)])\n",
    "tint = np.array([0.05, 1.00, 2.00, 3.00, 4.00, 5.00, 6.00, 7.00])\n",
    "line = linregress(tint, var_arr)\n",
    "plt.plot(tint, var_arr, 'o', label='original data')\n",
    "plt.plot(tint, line.intercept + line.slope*tint, 'r', label='fitted line')\n",
    "plt.ylabel('variance [ADU]')\n",
    "plt.xlabel('tint [ms]')\n",
    "plt.legend()\n"
   ]
  }
 ],
 "metadata": {
  "kernelspec": {
   "display_name": "Python 3",
   "language": "python",
   "name": "python3"
  },
  "language_info": {
   "codemirror_mode": {
    "name": "ipython",
    "version": 3
   },
   "file_extension": ".py",
   "mimetype": "text/x-python",
   "name": "python",
   "nbconvert_exporter": "python",
   "pygments_lexer": "ipython3",
   "version": "3.7.3"
  }
 },
 "nbformat": 4,
 "nbformat_minor": 4
}
